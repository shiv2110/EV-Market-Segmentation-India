{
 "cells": [
  {
   "cell_type": "code",
   "execution_count": 83,
   "metadata": {},
   "outputs": [],
   "source": [
    "import numpy as np\n",
    "import pandas as pd\n",
    "import matplotlib.pyplot as plt"
   ]
  },
  {
   "cell_type": "code",
   "execution_count": 84,
   "metadata": {},
   "outputs": [],
   "source": [
    "data1 = pd.read_csv('EV_India.csv')\n",
    "data2 = pd.read_csv('css.csv')"
   ]
  },
  {
   "cell_type": "code",
   "execution_count": 85,
   "metadata": {},
   "outputs": [
    {
     "data": {
      "text/html": [
       "<div>\n",
       "<style scoped>\n",
       "    .dataframe tbody tr th:only-of-type {\n",
       "        vertical-align: middle;\n",
       "    }\n",
       "\n",
       "    .dataframe tbody tr th {\n",
       "        vertical-align: top;\n",
       "    }\n",
       "\n",
       "    .dataframe thead th {\n",
       "        text-align: right;\n",
       "    }\n",
       "</style>\n",
       "<table border=\"1\" class=\"dataframe\">\n",
       "  <thead>\n",
       "    <tr style=\"text-align: right;\">\n",
       "      <th></th>\n",
       "      <th>Sr. No.</th>\n",
       "      <th>State Name</th>\n",
       "      <th>Total Electric Vehicle</th>\n",
       "      <th>Total Non-Electric Vehicle</th>\n",
       "      <th>Total</th>\n",
       "    </tr>\n",
       "  </thead>\n",
       "  <tbody>\n",
       "    <tr>\n",
       "      <th>0</th>\n",
       "      <td>1</td>\n",
       "      <td>Andaman and Nicobar Island</td>\n",
       "      <td>162.0</td>\n",
       "      <td>146945.0</td>\n",
       "      <td>147107.0</td>\n",
       "    </tr>\n",
       "    <tr>\n",
       "      <th>1</th>\n",
       "      <td>2</td>\n",
       "      <td>Andra Pradesh</td>\n",
       "      <td>NaN</td>\n",
       "      <td>NaN</td>\n",
       "      <td>NaN</td>\n",
       "    </tr>\n",
       "    <tr>\n",
       "      <th>2</th>\n",
       "      <td>3</td>\n",
       "      <td>Arunachal Pradesh</td>\n",
       "      <td>20.0</td>\n",
       "      <td>252965.0</td>\n",
       "      <td>252985.0</td>\n",
       "    </tr>\n",
       "    <tr>\n",
       "      <th>3</th>\n",
       "      <td>4</td>\n",
       "      <td>Assam</td>\n",
       "      <td>64766.0</td>\n",
       "      <td>4677053.0</td>\n",
       "      <td>4741819.0</td>\n",
       "    </tr>\n",
       "    <tr>\n",
       "      <th>4</th>\n",
       "      <td>5</td>\n",
       "      <td>Bihar</td>\n",
       "      <td>83335.0</td>\n",
       "      <td>10407078.0</td>\n",
       "      <td>10490413.0</td>\n",
       "    </tr>\n",
       "  </tbody>\n",
       "</table>\n",
       "</div>"
      ],
      "text/plain": [
       "   Sr. No.                  State Name  Total Electric Vehicle  \\\n",
       "0        1  Andaman and Nicobar Island                   162.0   \n",
       "1        2               Andra Pradesh                     NaN   \n",
       "2        3           Arunachal Pradesh                    20.0   \n",
       "3        4                       Assam                 64766.0   \n",
       "4        5                       Bihar                 83335.0   \n",
       "\n",
       "   Total Non-Electric Vehicle       Total  \n",
       "0                    146945.0    147107.0  \n",
       "1                         NaN         NaN  \n",
       "2                    252965.0    252985.0  \n",
       "3                   4677053.0   4741819.0  \n",
       "4                  10407078.0  10490413.0  "
      ]
     },
     "execution_count": 85,
     "metadata": {},
     "output_type": "execute_result"
    }
   ],
   "source": [
    "data1.head()"
   ]
  },
  {
   "cell_type": "code",
   "execution_count": 86,
   "metadata": {},
   "outputs": [
    {
     "data": {
      "text/html": [
       "<div>\n",
       "<style scoped>\n",
       "    .dataframe tbody tr th:only-of-type {\n",
       "        vertical-align: middle;\n",
       "    }\n",
       "\n",
       "    .dataframe tbody tr th {\n",
       "        vertical-align: top;\n",
       "    }\n",
       "\n",
       "    .dataframe thead th {\n",
       "        text-align: right;\n",
       "    }\n",
       "</style>\n",
       "<table border=\"1\" class=\"dataframe\">\n",
       "  <thead>\n",
       "    <tr style=\"text-align: right;\">\n",
       "      <th></th>\n",
       "      <th>State</th>\n",
       "      <th>No. of EV chargers sanctioned</th>\n",
       "    </tr>\n",
       "  </thead>\n",
       "  <tbody>\n",
       "    <tr>\n",
       "      <th>0</th>\n",
       "      <td>Maharashtra</td>\n",
       "      <td>317</td>\n",
       "    </tr>\n",
       "    <tr>\n",
       "      <th>1</th>\n",
       "      <td>Andhra Pradesh</td>\n",
       "      <td>266</td>\n",
       "    </tr>\n",
       "    <tr>\n",
       "      <th>2</th>\n",
       "      <td>Tamil Nadu</td>\n",
       "      <td>281</td>\n",
       "    </tr>\n",
       "    <tr>\n",
       "      <th>3</th>\n",
       "      <td>Gujarat</td>\n",
       "      <td>278</td>\n",
       "    </tr>\n",
       "    <tr>\n",
       "      <th>4</th>\n",
       "      <td>Uttar Pradesh</td>\n",
       "      <td>207</td>\n",
       "    </tr>\n",
       "  </tbody>\n",
       "</table>\n",
       "</div>"
      ],
      "text/plain": [
       "            State  No. of EV chargers sanctioned\n",
       "0     Maharashtra                            317\n",
       "1  Andhra Pradesh                            266\n",
       "2      Tamil Nadu                            281\n",
       "3         Gujarat                            278\n",
       "4   Uttar Pradesh                            207"
      ]
     },
     "execution_count": 86,
     "metadata": {},
     "output_type": "execute_result"
    }
   ],
   "source": [
    "data2.head()"
   ]
  },
  {
   "cell_type": "code",
   "execution_count": 87,
   "metadata": {},
   "outputs": [],
   "source": [
    "# left join\n",
    "\n",
    "mega_data = pd.merge(left = data1, right = data2, \n",
    "                   left_on = ['State Name'],\n",
    "                   right_on = ['State'],\n",
    "                   how = \"left\")"
   ]
  },
  {
   "cell_type": "code",
   "execution_count": 88,
   "metadata": {},
   "outputs": [
    {
     "data": {
      "text/html": [
       "<div>\n",
       "<style scoped>\n",
       "    .dataframe tbody tr th:only-of-type {\n",
       "        vertical-align: middle;\n",
       "    }\n",
       "\n",
       "    .dataframe tbody tr th {\n",
       "        vertical-align: top;\n",
       "    }\n",
       "\n",
       "    .dataframe thead th {\n",
       "        text-align: right;\n",
       "    }\n",
       "</style>\n",
       "<table border=\"1\" class=\"dataframe\">\n",
       "  <thead>\n",
       "    <tr style=\"text-align: right;\">\n",
       "      <th></th>\n",
       "      <th>Sr. No.</th>\n",
       "      <th>State Name</th>\n",
       "      <th>Total Electric Vehicle</th>\n",
       "      <th>Total Non-Electric Vehicle</th>\n",
       "      <th>Total</th>\n",
       "      <th>State</th>\n",
       "      <th>No. of EV chargers sanctioned</th>\n",
       "    </tr>\n",
       "  </thead>\n",
       "  <tbody>\n",
       "    <tr>\n",
       "      <th>0</th>\n",
       "      <td>1</td>\n",
       "      <td>Andaman and Nicobar Island</td>\n",
       "      <td>162.0</td>\n",
       "      <td>146945.0</td>\n",
       "      <td>147107.0</td>\n",
       "      <td>Andaman and Nicobar Island</td>\n",
       "      <td>10.0</td>\n",
       "    </tr>\n",
       "    <tr>\n",
       "      <th>1</th>\n",
       "      <td>2</td>\n",
       "      <td>Andra Pradesh</td>\n",
       "      <td>NaN</td>\n",
       "      <td>NaN</td>\n",
       "      <td>NaN</td>\n",
       "      <td>NaN</td>\n",
       "      <td>NaN</td>\n",
       "    </tr>\n",
       "    <tr>\n",
       "      <th>2</th>\n",
       "      <td>3</td>\n",
       "      <td>Arunachal Pradesh</td>\n",
       "      <td>20.0</td>\n",
       "      <td>252965.0</td>\n",
       "      <td>252985.0</td>\n",
       "      <td>NaN</td>\n",
       "      <td>NaN</td>\n",
       "    </tr>\n",
       "    <tr>\n",
       "      <th>3</th>\n",
       "      <td>4</td>\n",
       "      <td>Assam</td>\n",
       "      <td>64766.0</td>\n",
       "      <td>4677053.0</td>\n",
       "      <td>4741819.0</td>\n",
       "      <td>Assam</td>\n",
       "      <td>20.0</td>\n",
       "    </tr>\n",
       "    <tr>\n",
       "      <th>4</th>\n",
       "      <td>5</td>\n",
       "      <td>Bihar</td>\n",
       "      <td>83335.0</td>\n",
       "      <td>10407078.0</td>\n",
       "      <td>10490413.0</td>\n",
       "      <td>Bihar</td>\n",
       "      <td>37.0</td>\n",
       "    </tr>\n",
       "  </tbody>\n",
       "</table>\n",
       "</div>"
      ],
      "text/plain": [
       "   Sr. No.                  State Name  Total Electric Vehicle  \\\n",
       "0        1  Andaman and Nicobar Island                   162.0   \n",
       "1        2               Andra Pradesh                     NaN   \n",
       "2        3           Arunachal Pradesh                    20.0   \n",
       "3        4                       Assam                 64766.0   \n",
       "4        5                       Bihar                 83335.0   \n",
       "\n",
       "   Total Non-Electric Vehicle       Total                       State  \\\n",
       "0                    146945.0    147107.0  Andaman and Nicobar Island   \n",
       "1                         NaN         NaN                         NaN   \n",
       "2                    252965.0    252985.0                         NaN   \n",
       "3                   4677053.0   4741819.0                       Assam   \n",
       "4                  10407078.0  10490413.0                       Bihar   \n",
       "\n",
       "   No. of EV chargers sanctioned  \n",
       "0                           10.0  \n",
       "1                            NaN  \n",
       "2                            NaN  \n",
       "3                           20.0  \n",
       "4                           37.0  "
      ]
     },
     "execution_count": 88,
     "metadata": {},
     "output_type": "execute_result"
    }
   ],
   "source": [
    "mega_data.head()"
   ]
  },
  {
   "cell_type": "code",
   "execution_count": 89,
   "metadata": {},
   "outputs": [
    {
     "data": {
      "text/plain": [
       "(36, 7)"
      ]
     },
     "execution_count": 89,
     "metadata": {},
     "output_type": "execute_result"
    }
   ],
   "source": [
    "mega_data.shape"
   ]
  },
  {
   "cell_type": "code",
   "execution_count": 90,
   "metadata": {},
   "outputs": [
    {
     "data": {
      "text/plain": [
       "(36, 5)"
      ]
     },
     "execution_count": 90,
     "metadata": {},
     "output_type": "execute_result"
    }
   ],
   "source": [
    "data1.shape"
   ]
  },
  {
   "cell_type": "code",
   "execution_count": 91,
   "metadata": {},
   "outputs": [],
   "source": [
    "mega_data.drop(['State'], axis = 1, inplace = True)"
   ]
  },
  {
   "cell_type": "code",
   "execution_count": 92,
   "metadata": {},
   "outputs": [
    {
     "data": {
      "text/html": [
       "<div>\n",
       "<style scoped>\n",
       "    .dataframe tbody tr th:only-of-type {\n",
       "        vertical-align: middle;\n",
       "    }\n",
       "\n",
       "    .dataframe tbody tr th {\n",
       "        vertical-align: top;\n",
       "    }\n",
       "\n",
       "    .dataframe thead th {\n",
       "        text-align: right;\n",
       "    }\n",
       "</style>\n",
       "<table border=\"1\" class=\"dataframe\">\n",
       "  <thead>\n",
       "    <tr style=\"text-align: right;\">\n",
       "      <th></th>\n",
       "      <th>Sr. No.</th>\n",
       "      <th>State Name</th>\n",
       "      <th>Total Electric Vehicle</th>\n",
       "      <th>Total Non-Electric Vehicle</th>\n",
       "      <th>Total</th>\n",
       "      <th>No. of EV chargers sanctioned</th>\n",
       "    </tr>\n",
       "  </thead>\n",
       "  <tbody>\n",
       "    <tr>\n",
       "      <th>0</th>\n",
       "      <td>1</td>\n",
       "      <td>Andaman and Nicobar Island</td>\n",
       "      <td>162.0</td>\n",
       "      <td>146945.0</td>\n",
       "      <td>147107.0</td>\n",
       "      <td>10.0</td>\n",
       "    </tr>\n",
       "    <tr>\n",
       "      <th>1</th>\n",
       "      <td>2</td>\n",
       "      <td>Andra Pradesh</td>\n",
       "      <td>NaN</td>\n",
       "      <td>NaN</td>\n",
       "      <td>NaN</td>\n",
       "      <td>NaN</td>\n",
       "    </tr>\n",
       "    <tr>\n",
       "      <th>2</th>\n",
       "      <td>3</td>\n",
       "      <td>Arunachal Pradesh</td>\n",
       "      <td>20.0</td>\n",
       "      <td>252965.0</td>\n",
       "      <td>252985.0</td>\n",
       "      <td>NaN</td>\n",
       "    </tr>\n",
       "    <tr>\n",
       "      <th>3</th>\n",
       "      <td>4</td>\n",
       "      <td>Assam</td>\n",
       "      <td>64766.0</td>\n",
       "      <td>4677053.0</td>\n",
       "      <td>4741819.0</td>\n",
       "      <td>20.0</td>\n",
       "    </tr>\n",
       "    <tr>\n",
       "      <th>4</th>\n",
       "      <td>5</td>\n",
       "      <td>Bihar</td>\n",
       "      <td>83335.0</td>\n",
       "      <td>10407078.0</td>\n",
       "      <td>10490413.0</td>\n",
       "      <td>37.0</td>\n",
       "    </tr>\n",
       "  </tbody>\n",
       "</table>\n",
       "</div>"
      ],
      "text/plain": [
       "   Sr. No.                  State Name  Total Electric Vehicle  \\\n",
       "0        1  Andaman and Nicobar Island                   162.0   \n",
       "1        2               Andra Pradesh                     NaN   \n",
       "2        3           Arunachal Pradesh                    20.0   \n",
       "3        4                       Assam                 64766.0   \n",
       "4        5                       Bihar                 83335.0   \n",
       "\n",
       "   Total Non-Electric Vehicle       Total  No. of EV chargers sanctioned  \n",
       "0                    146945.0    147107.0                           10.0  \n",
       "1                         NaN         NaN                            NaN  \n",
       "2                    252965.0    252985.0                            NaN  \n",
       "3                   4677053.0   4741819.0                           20.0  \n",
       "4                  10407078.0  10490413.0                           37.0  "
      ]
     },
     "execution_count": 92,
     "metadata": {},
     "output_type": "execute_result"
    }
   ],
   "source": [
    "mega_data.head()"
   ]
  },
  {
   "cell_type": "code",
   "execution_count": 93,
   "metadata": {},
   "outputs": [],
   "source": [
    "mega_data.drop(['Sr. No.'], axis = 1, inplace = True)"
   ]
  },
  {
   "cell_type": "code",
   "execution_count": 95,
   "metadata": {},
   "outputs": [
    {
     "name": "stdout",
     "output_type": "stream",
     "text": [
      "<class 'pandas.core.frame.DataFrame'>\n",
      "Int64Index: 36 entries, 0 to 35\n",
      "Data columns (total 5 columns):\n",
      " #   Column                         Non-Null Count  Dtype  \n",
      "---  ------                         --------------  -----  \n",
      " 0   State Name                     36 non-null     object \n",
      " 1   Total Electric Vehicle         32 non-null     float64\n",
      " 2   Total Non-Electric Vehicle     32 non-null     float64\n",
      " 3   Total                          32 non-null     float64\n",
      " 4   No. of EV chargers sanctioned  24 non-null     float64\n",
      "dtypes: float64(4), object(1)\n",
      "memory usage: 1.7+ KB\n"
     ]
    }
   ],
   "source": [
    "mega_data.info()"
   ]
  },
  {
   "cell_type": "code",
   "execution_count": 96,
   "metadata": {},
   "outputs": [],
   "source": [
    "mega_data.dropna(axis = 0, inplace = True)"
   ]
  },
  {
   "cell_type": "code",
   "execution_count": 97,
   "metadata": {},
   "outputs": [
    {
     "data": {
      "text/plain": [
       "(22, 5)"
      ]
     },
     "execution_count": 97,
     "metadata": {},
     "output_type": "execute_result"
    }
   ],
   "source": [
    "mega_data.shape"
   ]
  },
  {
   "cell_type": "code",
   "execution_count": 120,
   "metadata": {},
   "outputs": [
    {
     "data": {
      "text/plain": [
       "0     Andaman and Nicobar Island\n",
       "3                          Assam\n",
       "4                          Bihar\n",
       "5                     Chandigarh\n",
       "6                   Chhattisgarh\n",
       "7                          Delhi\n",
       "9                        Gujarat\n",
       "10                       Haryana\n",
       "11              Himachal Pradesh\n",
       "12             Jammu and Kashmir\n",
       "14                     Karnataka\n",
       "15                        Kerala\n",
       "19                   Maharashtra\n",
       "21                     Meghalaya\n",
       "24                        Odisha\n",
       "25                    Puducherry\n",
       "27                     Rajasthan\n",
       "28                        Sikkim\n",
       "29                    Tamil Nadu\n",
       "33                   Uttarakhand\n",
       "34                 Uttar Pradesh\n",
       "35                   West Bengal\n",
       "Name: State Name, dtype: object"
      ]
     },
     "execution_count": 120,
     "metadata": {},
     "output_type": "execute_result"
    }
   ],
   "source": [
    "mega_data['State Name']"
   ]
  },
  {
   "cell_type": "code",
   "execution_count": 99,
   "metadata": {},
   "outputs": [],
   "source": [
    "mega_data['Total Electric Vehicle'].replace(\",\", \"\", inplace = True)"
   ]
  },
  {
   "cell_type": "code",
   "execution_count": 100,
   "metadata": {},
   "outputs": [
    {
     "data": {
      "text/plain": [
       "0        162.0\n",
       "3      64766.0\n",
       "4      83335.0\n",
       "5       2812.0\n",
       "6      20966.0\n",
       "7     156393.0\n",
       "9      45272.0\n",
       "10     37035.0\n",
       "11      1175.0\n",
       "12      2941.0\n",
       "14    120532.0\n",
       "15     30775.0\n",
       "19    116646.0\n",
       "21        49.0\n",
       "24     23371.0\n",
       "25      2149.0\n",
       "27     81338.0\n",
       "28        21.0\n",
       "29     82051.0\n",
       "33     31008.0\n",
       "34    337180.0\n",
       "35     48767.0\n",
       "Name: Total Electric Vehicle, dtype: float64"
      ]
     },
     "execution_count": 100,
     "metadata": {},
     "output_type": "execute_result"
    }
   ],
   "source": [
    "mega_data['Total Electric Vehicle']"
   ]
  },
  {
   "cell_type": "code",
   "execution_count": 101,
   "metadata": {},
   "outputs": [],
   "source": [
    "mega_data['Total Electric Vehicle'] = mega_data['Total Electric Vehicle'].astype('int')\n",
    "mega_data['Total Non-Electric Vehicle'] = mega_data['Total Non-Electric Vehicle'].astype('int')\n",
    "mega_data['Total'] = mega_data['Total'].astype('int')"
   ]
  },
  {
   "cell_type": "code",
   "execution_count": 102,
   "metadata": {},
   "outputs": [],
   "source": [
    "mega_data['No. of EV chargers sanctioned'] = mega_data['No. of EV chargers sanctioned'].astype('int')"
   ]
  },
  {
   "cell_type": "code",
   "execution_count": 103,
   "metadata": {},
   "outputs": [
    {
     "data": {
      "text/html": [
       "<div>\n",
       "<style scoped>\n",
       "    .dataframe tbody tr th:only-of-type {\n",
       "        vertical-align: middle;\n",
       "    }\n",
       "\n",
       "    .dataframe tbody tr th {\n",
       "        vertical-align: top;\n",
       "    }\n",
       "\n",
       "    .dataframe thead th {\n",
       "        text-align: right;\n",
       "    }\n",
       "</style>\n",
       "<table border=\"1\" class=\"dataframe\">\n",
       "  <thead>\n",
       "    <tr style=\"text-align: right;\">\n",
       "      <th></th>\n",
       "      <th>State Name</th>\n",
       "      <th>Total Electric Vehicle</th>\n",
       "      <th>Total Non-Electric Vehicle</th>\n",
       "      <th>Total</th>\n",
       "      <th>No. of EV chargers sanctioned</th>\n",
       "    </tr>\n",
       "  </thead>\n",
       "  <tbody>\n",
       "    <tr>\n",
       "      <th>0</th>\n",
       "      <td>Andaman and Nicobar Island</td>\n",
       "      <td>162</td>\n",
       "      <td>146945</td>\n",
       "      <td>147107</td>\n",
       "      <td>10</td>\n",
       "    </tr>\n",
       "    <tr>\n",
       "      <th>3</th>\n",
       "      <td>Assam</td>\n",
       "      <td>64766</td>\n",
       "      <td>4677053</td>\n",
       "      <td>4741819</td>\n",
       "      <td>20</td>\n",
       "    </tr>\n",
       "    <tr>\n",
       "      <th>4</th>\n",
       "      <td>Bihar</td>\n",
       "      <td>83335</td>\n",
       "      <td>10407078</td>\n",
       "      <td>10490413</td>\n",
       "      <td>37</td>\n",
       "    </tr>\n",
       "    <tr>\n",
       "      <th>5</th>\n",
       "      <td>Chandigarh</td>\n",
       "      <td>2812</td>\n",
       "      <td>746881</td>\n",
       "      <td>749693</td>\n",
       "      <td>70</td>\n",
       "    </tr>\n",
       "    <tr>\n",
       "      <th>6</th>\n",
       "      <td>Chhattisgarh</td>\n",
       "      <td>20966</td>\n",
       "      <td>6836200</td>\n",
       "      <td>6857166</td>\n",
       "      <td>25</td>\n",
       "    </tr>\n",
       "  </tbody>\n",
       "</table>\n",
       "</div>"
      ],
      "text/plain": [
       "                   State Name  Total Electric Vehicle  \\\n",
       "0  Andaman and Nicobar Island                     162   \n",
       "3                       Assam                   64766   \n",
       "4                       Bihar                   83335   \n",
       "5                  Chandigarh                    2812   \n",
       "6                Chhattisgarh                   20966   \n",
       "\n",
       "   Total Non-Electric Vehicle     Total  No. of EV chargers sanctioned  \n",
       "0                      146945    147107                             10  \n",
       "3                     4677053   4741819                             20  \n",
       "4                    10407078  10490413                             37  \n",
       "5                      746881    749693                             70  \n",
       "6                     6836200   6857166                             25  "
      ]
     },
     "execution_count": 103,
     "metadata": {},
     "output_type": "execute_result"
    }
   ],
   "source": [
    "mega_data.head()"
   ]
  },
  {
   "cell_type": "code",
   "execution_count": 122,
   "metadata": {},
   "outputs": [],
   "source": [
    "mega_data.drop(['Total Non-Electric Vehicle'], axis = 1, inplace = True)\n",
    "mega_data.drop(['Total'], axis = 1, inplace = True)\n",
    "# mega_data['EV Ratio'] = mega_data['Total Electric Vehicle']/mega_data['Total']"
   ]
  },
  {
   "cell_type": "code",
   "execution_count": 123,
   "metadata": {},
   "outputs": [
    {
     "data": {
      "text/html": [
       "<div>\n",
       "<style scoped>\n",
       "    .dataframe tbody tr th:only-of-type {\n",
       "        vertical-align: middle;\n",
       "    }\n",
       "\n",
       "    .dataframe tbody tr th {\n",
       "        vertical-align: top;\n",
       "    }\n",
       "\n",
       "    .dataframe thead th {\n",
       "        text-align: right;\n",
       "    }\n",
       "</style>\n",
       "<table border=\"1\" class=\"dataframe\">\n",
       "  <thead>\n",
       "    <tr style=\"text-align: right;\">\n",
       "      <th></th>\n",
       "      <th>State Name</th>\n",
       "      <th>Total Electric Vehicle</th>\n",
       "      <th>No. of EV chargers sanctioned</th>\n",
       "      <th>EV Ratio</th>\n",
       "      <th>EV CS Ratio</th>\n",
       "    </tr>\n",
       "  </thead>\n",
       "  <tbody>\n",
       "    <tr>\n",
       "      <th>0</th>\n",
       "      <td>Andaman and Nicobar Island</td>\n",
       "      <td>162</td>\n",
       "      <td>10</td>\n",
       "      <td>0.001101</td>\n",
       "      <td>0.003476</td>\n",
       "    </tr>\n",
       "    <tr>\n",
       "      <th>3</th>\n",
       "      <td>Assam</td>\n",
       "      <td>64766</td>\n",
       "      <td>20</td>\n",
       "      <td>0.013658</td>\n",
       "      <td>0.006952</td>\n",
       "    </tr>\n",
       "    <tr>\n",
       "      <th>4</th>\n",
       "      <td>Bihar</td>\n",
       "      <td>83335</td>\n",
       "      <td>37</td>\n",
       "      <td>0.007944</td>\n",
       "      <td>0.012861</td>\n",
       "    </tr>\n",
       "    <tr>\n",
       "      <th>5</th>\n",
       "      <td>Chandigarh</td>\n",
       "      <td>2812</td>\n",
       "      <td>70</td>\n",
       "      <td>0.003751</td>\n",
       "      <td>0.024331</td>\n",
       "    </tr>\n",
       "    <tr>\n",
       "      <th>6</th>\n",
       "      <td>Chhattisgarh</td>\n",
       "      <td>20966</td>\n",
       "      <td>25</td>\n",
       "      <td>0.003058</td>\n",
       "      <td>0.008690</td>\n",
       "    </tr>\n",
       "  </tbody>\n",
       "</table>\n",
       "</div>"
      ],
      "text/plain": [
       "                   State Name  Total Electric Vehicle  \\\n",
       "0  Andaman and Nicobar Island                     162   \n",
       "3                       Assam                   64766   \n",
       "4                       Bihar                   83335   \n",
       "5                  Chandigarh                    2812   \n",
       "6                Chhattisgarh                   20966   \n",
       "\n",
       "   No. of EV chargers sanctioned  EV Ratio  EV CS Ratio  \n",
       "0                             10  0.001101     0.003476  \n",
       "3                             20  0.013658     0.006952  \n",
       "4                             37  0.007944     0.012861  \n",
       "5                             70  0.003751     0.024331  \n",
       "6                             25  0.003058     0.008690  "
      ]
     },
     "execution_count": 123,
     "metadata": {},
     "output_type": "execute_result"
    }
   ],
   "source": [
    "mega_data.head()"
   ]
  },
  {
   "cell_type": "code",
   "execution_count": 107,
   "metadata": {},
   "outputs": [],
   "source": [
    "# mega_data.to_csv('ms_ev.csv', index = False)"
   ]
  },
  {
   "cell_type": "code",
   "execution_count": 115,
   "metadata": {},
   "outputs": [],
   "source": [
    "# mega_data['EV CS Ratio'] = mega_data['No. of EV chargers sanctioned']/2877"
   ]
  },
  {
   "cell_type": "code",
   "execution_count": 124,
   "metadata": {},
   "outputs": [],
   "source": [
    "X = mega_data.iloc[:, -4:-2].values"
   ]
  },
  {
   "cell_type": "code",
   "execution_count": 125,
   "metadata": {},
   "outputs": [
    {
     "data": {
      "text/plain": [
       "(22, 2)"
      ]
     },
     "execution_count": 125,
     "metadata": {},
     "output_type": "execute_result"
    }
   ],
   "source": [
    "X.shape"
   ]
  },
  {
   "cell_type": "code",
   "execution_count": 126,
   "metadata": {},
   "outputs": [
    {
     "data": {
      "image/png": "[encoded data removed]",
      "text/plain": [
       "<Figure size 432x288 with 1 Axes>"
      ]
     },
     "metadata": {
      "needs_background": "light"
     },
     "output_type": "display_data"
    }
   ],
   "source": [
    "from sklearn.cluster import KMeans\n",
    "wcss = []\n",
    "for i in range(1, 5):\n",
    "    kmeans = KMeans(n_clusters = i, init = 'k-means++', random_state = 42)\n",
    "    kmeans.fit(X)\n",
    "    wcss.append(kmeans.inertia_)\n",
    "plt.plot(range(1, 5), wcss)\n",
    "plt.title('The Elbow Method')\n",
    "plt.xlabel('Number of clusters')\n",
    "plt.ylabel('WCSS')\n",
    "plt.show()"
   ]
  },
  {
   "cell_type": "code",
   "execution_count": 141,
   "metadata": {},
   "outputs": [],
   "source": [
    "kmeans = KMeans(n_clusters = 3, init = 'k-means++', random_state = 2)\n",
    "y_kmeans = kmeans.fit_predict(X)"
   ]
  },
  {
   "cell_type": "code",
   "execution_count": 142,
   "metadata": {},
   "outputs": [
    {
     "data": {
      "image/png": "[encoded data removed]",
      "text/plain": [
       "<Figure size 432x288 with 1 Axes>"
      ]
     },
     "metadata": {
      "needs_background": "light"
     },
     "output_type": "display_data"
    }
   ],
   "source": [
    "plt.scatter(X[y_kmeans == 0, 0], X[y_kmeans == 0, 1], s = 100, c = 'red', label = 'Cluster 1')\n",
    "plt.scatter(X[y_kmeans == 1, 0], X[y_kmeans == 1, 1], s = 100, c = 'blue', label = 'Cluster 2')\n",
    "plt.scatter(X[y_kmeans == 2, 0], X[y_kmeans == 2, 1], s = 100, c = 'green', label = 'Cluster 3')\n",
    "\n",
    "# plt.scatter(kmeans.cluster_centers_[:, 0], kmeans.cluster_centers_[:, 1], s = 300, c = 'yellow', label = 'Centroids')\n",
    "plt.title('Clusters of customers')\n",
    "plt.xlabel('Total EVs')\n",
    "plt.ylabel('Total Charging Stations Sanctioned')\n",
    "plt.legend()\n",
    "plt.show()"
   ]
  },
  {
   "cell_type": "code",
   "execution_count": null,
   "metadata": {},
   "outputs": [],
   "source": []
  }
 ],
 "metadata": {
  "kernelspec": {
   "display_name": "base",
   "language": "python",
   "name": "python3"
  },
  "language_info": {
   "codemirror_mode": {
    "name": "ipython",
    "version": 3
   },
   "file_extension": ".py",
   "mimetype": "text/x-python",
   "name": "python",
   "nbconvert_exporter": "python",
   "pygments_lexer": "ipython3",
   "version": "3.8.5"
  },
  "orig_nbformat": 4,
  "vscode": {
   "interpreter": {
    "hash": "0dc2fd043a8482d8110fc568899369c1e4bc80d83650aa995e9527605d230520"
   }
  }
 },
 "nbformat": 4,
 "nbformat_minor": 2
}
