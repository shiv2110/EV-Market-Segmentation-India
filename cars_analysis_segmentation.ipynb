{
 "cells": [
  {
   "cell_type": "code",
   "execution_count": 1,
   "metadata": {},
   "outputs": [],
   "source": [
    "import numpy as np\n",
    "import pandas as pd\n",
    "import matplotlib.pyplot as plt\n",
    "import seaborn as sns"
   ]
  },
  {
   "cell_type": "code",
   "execution_count": 2,
   "metadata": {},
   "outputs": [],
   "source": [
    "data = pd.read_csv('mega_cars.csv')"
   ]
  },
  {
   "cell_type": "code",
   "execution_count": 3,
   "metadata": {},
   "outputs": [
    {
     "data": {
      "text/html": [
       "<div>\n",
       "<style scoped>\n",
       "    .dataframe tbody tr th:only-of-type {\n",
       "        vertical-align: middle;\n",
       "    }\n",
       "\n",
       "    .dataframe tbody tr th {\n",
       "        vertical-align: top;\n",
       "    }\n",
       "\n",
       "    .dataframe thead th {\n",
       "        text-align: right;\n",
       "    }\n",
       "</style>\n",
       "<table border=\"1\" class=\"dataframe\">\n",
       "  <thead>\n",
       "    <tr style=\"text-align: right;\">\n",
       "      <th></th>\n",
       "      <th>Car</th>\n",
       "      <th>Style</th>\n",
       "      <th>BootSpace</th>\n",
       "      <th>Battery Capacity(kWh)</th>\n",
       "      <th>Acceleration Time(sec)</th>\n",
       "      <th>TopSpeed(km/h)</th>\n",
       "      <th>Range(km)</th>\n",
       "      <th>Max Power(kW)</th>\n",
       "      <th>Max Torque(Nm)</th>\n",
       "      <th>Charging T(h)</th>\n",
       "      <th>Drive Type</th>\n",
       "      <th>Price(Lh)</th>\n",
       "    </tr>\n",
       "  </thead>\n",
       "  <tbody>\n",
       "    <tr>\n",
       "      <th>0</th>\n",
       "      <td>Tata Nexon EV</td>\n",
       "      <td>Compact SUV</td>\n",
       "      <td>350 L</td>\n",
       "      <td>30.2</td>\n",
       "      <td>9.9</td>\n",
       "      <td>180</td>\n",
       "      <td>312</td>\n",
       "      <td>96</td>\n",
       "      <td>245</td>\n",
       "      <td>9</td>\n",
       "      <td>FWD</td>\n",
       "      <td>17</td>\n",
       "    </tr>\n",
       "    <tr>\n",
       "      <th>1</th>\n",
       "      <td>Tata Tigor EV</td>\n",
       "      <td>Subcompact Sedan</td>\n",
       "      <td>316 L</td>\n",
       "      <td>26.0</td>\n",
       "      <td>5.7</td>\n",
       "      <td>120</td>\n",
       "      <td>306</td>\n",
       "      <td>55</td>\n",
       "      <td>170</td>\n",
       "      <td>9</td>\n",
       "      <td>FWD</td>\n",
       "      <td>14</td>\n",
       "    </tr>\n",
       "    <tr>\n",
       "      <th>2</th>\n",
       "      <td>MG ZS EV</td>\n",
       "      <td>Compact SUV</td>\n",
       "      <td>448 L</td>\n",
       "      <td>44.5</td>\n",
       "      <td>8.5</td>\n",
       "      <td>120</td>\n",
       "      <td>340</td>\n",
       "      <td>174</td>\n",
       "      <td>353</td>\n",
       "      <td>8</td>\n",
       "      <td>FWD</td>\n",
       "      <td>25</td>\n",
       "    </tr>\n",
       "    <tr>\n",
       "      <th>3</th>\n",
       "      <td>Hyundai Kona Electric</td>\n",
       "      <td>Compact SUV</td>\n",
       "      <td>332 L</td>\n",
       "      <td>39.2</td>\n",
       "      <td>9.7</td>\n",
       "      <td>155</td>\n",
       "      <td>452</td>\n",
       "      <td>103</td>\n",
       "      <td>395</td>\n",
       "      <td>7</td>\n",
       "      <td>FWD</td>\n",
       "      <td>24</td>\n",
       "    </tr>\n",
       "    <tr>\n",
       "      <th>4</th>\n",
       "      <td>Jaguar I-Pace</td>\n",
       "      <td>Premium Midsize Sedan</td>\n",
       "      <td>656 L</td>\n",
       "      <td>90.0</td>\n",
       "      <td>4.8</td>\n",
       "      <td>200</td>\n",
       "      <td>470</td>\n",
       "      <td>294</td>\n",
       "      <td>696</td>\n",
       "      <td>13</td>\n",
       "      <td>AWD</td>\n",
       "      <td>112</td>\n",
       "    </tr>\n",
       "  </tbody>\n",
       "</table>\n",
       "</div>"
      ],
      "text/plain": [
       "                     Car                  Style BootSpace  \\\n",
       "0          Tata Nexon EV            Compact SUV     350 L   \n",
       "1          Tata Tigor EV       Subcompact Sedan     316 L   \n",
       "2               MG ZS EV            Compact SUV     448 L   \n",
       "3  Hyundai Kona Electric            Compact SUV     332 L   \n",
       "4          Jaguar I-Pace  Premium Midsize Sedan     656 L   \n",
       "\n",
       "   Battery Capacity(kWh)  Acceleration Time(sec)  TopSpeed(km/h)  Range(km)  \\\n",
       "0                   30.2                     9.9             180        312   \n",
       "1                   26.0                     5.7             120        306   \n",
       "2                   44.5                     8.5             120        340   \n",
       "3                   39.2                     9.7             155        452   \n",
       "4                   90.0                     4.8             200        470   \n",
       "\n",
       "   Max Power(kW)  Max Torque(Nm)  Charging T(h) Drive Type  Price(Lh)  \n",
       "0             96             245              9        FWD         17  \n",
       "1             55             170              9        FWD         14  \n",
       "2            174             353              8        FWD         25  \n",
       "3            103             395              7        FWD         24  \n",
       "4            294             696             13        AWD        112  "
      ]
     },
     "execution_count": 3,
     "metadata": {},
     "output_type": "execute_result"
    }
   ],
   "source": [
    "data.head()"
   ]
  },
  {
   "cell_type": "code",
   "execution_count": 4,
   "metadata": {},
   "outputs": [
    {
     "name": "stdout",
     "output_type": "stream",
     "text": [
      "<class 'pandas.core.frame.DataFrame'>\n",
      "RangeIndex: 13 entries, 0 to 12\n",
      "Data columns (total 12 columns):\n",
      " #   Column                  Non-Null Count  Dtype  \n",
      "---  ------                  --------------  -----  \n",
      " 0   Car                     13 non-null     object \n",
      " 1   Style                   13 non-null     object \n",
      " 2   BootSpace               13 non-null     object \n",
      " 3   Battery Capacity(kWh)   13 non-null     float64\n",
      " 4   Acceleration Time(sec)  13 non-null     float64\n",
      " 5   TopSpeed(km/h)          13 non-null     int64  \n",
      " 6   Range(km)               13 non-null     int64  \n",
      " 7   Max Power(kW)           13 non-null     int64  \n",
      " 8   Max Torque(Nm)          13 non-null     int64  \n",
      " 9   Charging T(h)           13 non-null     int64  \n",
      " 10  Drive Type              13 non-null     object \n",
      " 11  Price(Lh)               13 non-null     int64  \n",
      "dtypes: float64(2), int64(6), object(4)\n",
      "memory usage: 1.3+ KB\n"
     ]
    }
   ],
   "source": [
    "data.info()"
   ]
  },
  {
   "cell_type": "code",
   "execution_count": 5,
   "metadata": {},
   "outputs": [],
   "source": [
    "## For bootspace \n",
    "\n",
    "for i in range(data.shape[0]):\n",
    "    data.loc[i, 'BootSpace'] = data.loc[i, 'BootSpace'][:-2]"
   ]
  },
  {
   "cell_type": "code",
   "execution_count": 6,
   "metadata": {},
   "outputs": [
    {
     "data": {
      "text/html": [
       "<div>\n",
       "<style scoped>\n",
       "    .dataframe tbody tr th:only-of-type {\n",
       "        vertical-align: middle;\n",
       "    }\n",
       "\n",
       "    .dataframe tbody tr th {\n",
       "        vertical-align: top;\n",
       "    }\n",
       "\n",
       "    .dataframe thead th {\n",
       "        text-align: right;\n",
       "    }\n",
       "</style>\n",
       "<table border=\"1\" class=\"dataframe\">\n",
       "  <thead>\n",
       "    <tr style=\"text-align: right;\">\n",
       "      <th></th>\n",
       "      <th>Car</th>\n",
       "      <th>Style</th>\n",
       "      <th>BootSpace</th>\n",
       "      <th>Battery Capacity(kWh)</th>\n",
       "      <th>Acceleration Time(sec)</th>\n",
       "      <th>TopSpeed(km/h)</th>\n",
       "      <th>Range(km)</th>\n",
       "      <th>Max Power(kW)</th>\n",
       "      <th>Max Torque(Nm)</th>\n",
       "      <th>Charging T(h)</th>\n",
       "      <th>Drive Type</th>\n",
       "      <th>Price(Lh)</th>\n",
       "    </tr>\n",
       "  </thead>\n",
       "  <tbody>\n",
       "    <tr>\n",
       "      <th>0</th>\n",
       "      <td>Tata Nexon EV</td>\n",
       "      <td>Compact SUV</td>\n",
       "      <td>350</td>\n",
       "      <td>30.2</td>\n",
       "      <td>9.9</td>\n",
       "      <td>180</td>\n",
       "      <td>312</td>\n",
       "      <td>96</td>\n",
       "      <td>245</td>\n",
       "      <td>9</td>\n",
       "      <td>FWD</td>\n",
       "      <td>17</td>\n",
       "    </tr>\n",
       "    <tr>\n",
       "      <th>1</th>\n",
       "      <td>Tata Tigor EV</td>\n",
       "      <td>Subcompact Sedan</td>\n",
       "      <td>316</td>\n",
       "      <td>26.0</td>\n",
       "      <td>5.7</td>\n",
       "      <td>120</td>\n",
       "      <td>306</td>\n",
       "      <td>55</td>\n",
       "      <td>170</td>\n",
       "      <td>9</td>\n",
       "      <td>FWD</td>\n",
       "      <td>14</td>\n",
       "    </tr>\n",
       "    <tr>\n",
       "      <th>2</th>\n",
       "      <td>MG ZS EV</td>\n",
       "      <td>Compact SUV</td>\n",
       "      <td>448</td>\n",
       "      <td>44.5</td>\n",
       "      <td>8.5</td>\n",
       "      <td>120</td>\n",
       "      <td>340</td>\n",
       "      <td>174</td>\n",
       "      <td>353</td>\n",
       "      <td>8</td>\n",
       "      <td>FWD</td>\n",
       "      <td>25</td>\n",
       "    </tr>\n",
       "  </tbody>\n",
       "</table>\n",
       "</div>"
      ],
      "text/plain": [
       "             Car             Style BootSpace  Battery Capacity(kWh)  \\\n",
       "0  Tata Nexon EV       Compact SUV       350                   30.2   \n",
       "1  Tata Tigor EV  Subcompact Sedan       316                   26.0   \n",
       "2       MG ZS EV       Compact SUV       448                   44.5   \n",
       "\n",
       "   Acceleration Time(sec)  TopSpeed(km/h)  Range(km)  Max Power(kW)  \\\n",
       "0                     9.9             180        312             96   \n",
       "1                     5.7             120        306             55   \n",
       "2                     8.5             120        340            174   \n",
       "\n",
       "   Max Torque(Nm)  Charging T(h) Drive Type  Price(Lh)  \n",
       "0             245              9        FWD         17  \n",
       "1             170              9        FWD         14  \n",
       "2             353              8        FWD         25  "
      ]
     },
     "execution_count": 6,
     "metadata": {},
     "output_type": "execute_result"
    }
   ],
   "source": [
    "data.head(3)"
   ]
  },
  {
   "cell_type": "code",
   "execution_count": 7,
   "metadata": {},
   "outputs": [
    {
     "name": "stdout",
     "output_type": "stream",
     "text": [
      "<class 'pandas.core.frame.DataFrame'>\n",
      "RangeIndex: 13 entries, 0 to 12\n",
      "Data columns (total 12 columns):\n",
      " #   Column                  Non-Null Count  Dtype  \n",
      "---  ------                  --------------  -----  \n",
      " 0   Car                     13 non-null     object \n",
      " 1   Style                   13 non-null     object \n",
      " 2   BootSpace               13 non-null     object \n",
      " 3   Battery Capacity(kWh)   13 non-null     float64\n",
      " 4   Acceleration Time(sec)  13 non-null     float64\n",
      " 5   TopSpeed(km/h)          13 non-null     int64  \n",
      " 6   Range(km)               13 non-null     int64  \n",
      " 7   Max Power(kW)           13 non-null     int64  \n",
      " 8   Max Torque(Nm)          13 non-null     int64  \n",
      " 9   Charging T(h)           13 non-null     int64  \n",
      " 10  Drive Type              13 non-null     object \n",
      " 11  Price(Lh)               13 non-null     int64  \n",
      "dtypes: float64(2), int64(6), object(4)\n",
      "memory usage: 1.3+ KB\n"
     ]
    }
   ],
   "source": [
    "data.info()"
   ]
  },
  {
   "cell_type": "code",
   "execution_count": 8,
   "metadata": {},
   "outputs": [],
   "source": [
    "data['BootSpace'] = data['BootSpace'].astype('int')"
   ]
  },
  {
   "cell_type": "code",
   "execution_count": 9,
   "metadata": {},
   "outputs": [
    {
     "data": {
      "text/plain": [
       "Index(['Car', 'Style', 'BootSpace', 'Battery Capacity(kWh)',\n",
       "       'Acceleration Time(sec)', 'TopSpeed(km/h)', 'Range(km)',\n",
       "       'Max Power(kW)', 'Max Torque(Nm)', 'Charging T(h)', 'Drive Type',\n",
       "       'Price(Lh)'],\n",
       "      dtype='object')"
      ]
     },
     "execution_count": 9,
     "metadata": {},
     "output_type": "execute_result"
    }
   ],
   "source": [
    "data.columns"
   ]
  },
  {
   "cell_type": "code",
   "execution_count": 10,
   "metadata": {},
   "outputs": [
    {
     "data": {
      "text/plain": [
       "Compact SUV              6\n",
       "Premium Fullsize SUV     1\n",
       "Premium Coupe            1\n",
       "Hatchback                1\n",
       "Subcompact MPV           1\n",
       "Premium Midsize Sedan    1\n",
       "Premium Sports Sedan     1\n",
       "Subcompact Sedan         1\n",
       "Name: Style, dtype: int64"
      ]
     },
     "execution_count": 10,
     "metadata": {},
     "output_type": "execute_result"
    }
   ],
   "source": [
    "data['Style'].value_counts()\n",
    "## Compact SUV is the popular style of EVs in India"
   ]
  },
  {
   "cell_type": "code",
   "execution_count": 11,
   "metadata": {},
   "outputs": [
    {
     "data": {
      "text/plain": [
       "0             Tata Nexon EV\n",
       "2                  MG ZS EV\n",
       "3     Hyundai Kona Electric\n",
       "7         Mercedes Benz EQC\n",
       "10              Audi E-Tron\n",
       "11         Mahindra XUV 400\n",
       "Name: Car, dtype: object"
      ]
     },
     "execution_count": 11,
     "metadata": {},
     "output_type": "execute_result"
    }
   ],
   "source": [
    "data[ data['Style'] == 'Compact SUV' ]['Car']\n",
    "## All cars that are compact SUVs"
   ]
  },
  {
   "cell_type": "code",
   "execution_count": 12,
   "metadata": {},
   "outputs": [],
   "source": [
    "for i in range(data.shape[0]):\n",
    "    if 'Hatchback' in data.loc[i, 'Style']:\n",
    "        data.loc[i, 'Style'] = 0\n",
    "    elif 'Subcompact' in data.loc[i, 'Style']:\n",
    "        data.loc[i, 'Style'] = 1\n",
    "    elif 'Compact' in data.loc[i, 'Style']:\n",
    "        data.loc[i, 'Style'] = 2\n",
    "    elif 'Premium' in data.loc[i, 'Style']:\n",
    "        data.loc[i, 'Style'] = 3"
   ]
  },
  {
   "cell_type": "code",
   "execution_count": 13,
   "metadata": {},
   "outputs": [
    {
     "data": {
      "text/html": [
       "<div>\n",
       "<style scoped>\n",
       "    .dataframe tbody tr th:only-of-type {\n",
       "        vertical-align: middle;\n",
       "    }\n",
       "\n",
       "    .dataframe tbody tr th {\n",
       "        vertical-align: top;\n",
       "    }\n",
       "\n",
       "    .dataframe thead th {\n",
       "        text-align: right;\n",
       "    }\n",
       "</style>\n",
       "<table border=\"1\" class=\"dataframe\">\n",
       "  <thead>\n",
       "    <tr style=\"text-align: right;\">\n",
       "      <th></th>\n",
       "      <th>Car</th>\n",
       "      <th>Style</th>\n",
       "      <th>BootSpace</th>\n",
       "      <th>Battery Capacity(kWh)</th>\n",
       "      <th>Acceleration Time(sec)</th>\n",
       "      <th>TopSpeed(km/h)</th>\n",
       "      <th>Range(km)</th>\n",
       "      <th>Max Power(kW)</th>\n",
       "      <th>Max Torque(Nm)</th>\n",
       "      <th>Charging T(h)</th>\n",
       "      <th>Drive Type</th>\n",
       "      <th>Price(Lh)</th>\n",
       "    </tr>\n",
       "  </thead>\n",
       "  <tbody>\n",
       "    <tr>\n",
       "      <th>0</th>\n",
       "      <td>Tata Nexon EV</td>\n",
       "      <td>2</td>\n",
       "      <td>350</td>\n",
       "      <td>30.2</td>\n",
       "      <td>9.9</td>\n",
       "      <td>180</td>\n",
       "      <td>312</td>\n",
       "      <td>96</td>\n",
       "      <td>245</td>\n",
       "      <td>9</td>\n",
       "      <td>FWD</td>\n",
       "      <td>17</td>\n",
       "    </tr>\n",
       "    <tr>\n",
       "      <th>1</th>\n",
       "      <td>Tata Tigor EV</td>\n",
       "      <td>1</td>\n",
       "      <td>316</td>\n",
       "      <td>26.0</td>\n",
       "      <td>5.7</td>\n",
       "      <td>120</td>\n",
       "      <td>306</td>\n",
       "      <td>55</td>\n",
       "      <td>170</td>\n",
       "      <td>9</td>\n",
       "      <td>FWD</td>\n",
       "      <td>14</td>\n",
       "    </tr>\n",
       "    <tr>\n",
       "      <th>2</th>\n",
       "      <td>MG ZS EV</td>\n",
       "      <td>2</td>\n",
       "      <td>448</td>\n",
       "      <td>44.5</td>\n",
       "      <td>8.5</td>\n",
       "      <td>120</td>\n",
       "      <td>340</td>\n",
       "      <td>174</td>\n",
       "      <td>353</td>\n",
       "      <td>8</td>\n",
       "      <td>FWD</td>\n",
       "      <td>25</td>\n",
       "    </tr>\n",
       "  </tbody>\n",
       "</table>\n",
       "</div>"
      ],
      "text/plain": [
       "             Car Style  BootSpace  Battery Capacity(kWh)  \\\n",
       "0  Tata Nexon EV     2        350                   30.2   \n",
       "1  Tata Tigor EV     1        316                   26.0   \n",
       "2       MG ZS EV     2        448                   44.5   \n",
       "\n",
       "   Acceleration Time(sec)  TopSpeed(km/h)  Range(km)  Max Power(kW)  \\\n",
       "0                     9.9             180        312             96   \n",
       "1                     5.7             120        306             55   \n",
       "2                     8.5             120        340            174   \n",
       "\n",
       "   Max Torque(Nm)  Charging T(h) Drive Type  Price(Lh)  \n",
       "0             245              9        FWD         17  \n",
       "1             170              9        FWD         14  \n",
       "2             353              8        FWD         25  "
      ]
     },
     "execution_count": 13,
     "metadata": {},
     "output_type": "execute_result"
    }
   ],
   "source": [
    "data.head(3)"
   ]
  },
  {
   "cell_type": "code",
   "execution_count": 14,
   "metadata": {},
   "outputs": [
    {
     "data": {
      "text/plain": [
       "dtype('O')"
      ]
     },
     "execution_count": 14,
     "metadata": {},
     "output_type": "execute_result"
    }
   ],
   "source": [
    "data['Style'].dtype"
   ]
  },
  {
   "cell_type": "code",
   "execution_count": 15,
   "metadata": {},
   "outputs": [],
   "source": [
    "data['Style'] = data['Style'].astype('int')"
   ]
  },
  {
   "cell_type": "code",
   "execution_count": 16,
   "metadata": {},
   "outputs": [
    {
     "data": {
      "text/plain": [
       "array([2, 1, 3, 0])"
      ]
     },
     "execution_count": 16,
     "metadata": {},
     "output_type": "execute_result"
    }
   ],
   "source": [
    "data['Style'].unique()"
   ]
  },
  {
   "cell_type": "code",
   "execution_count": 17,
   "metadata": {},
   "outputs": [
    {
     "data": {
      "text/plain": [
       "Text(0.5, 1.0, 'Boot Space Comparison')"
      ]
     },
     "execution_count": 17,
     "metadata": {},
     "output_type": "execute_result"
    },
    {
     "data": {
      "image/png": "[encoded data removed]",
      "text/plain": [
       "<Figure size 1800x432 with 1 Axes>"
      ]
     },
     "metadata": {
      "needs_background": "light"
     },
     "output_type": "display_data"
    }
   ],
   "source": [
    "plt.figure(figsize=(25, 6))\n",
    "plt.bar(data['Car'], data['BootSpace'], color = (0.2, 0.4, 0.6, 0.6))\n",
    "plt.xlabel(\"Car Model\")\n",
    "plt.ylabel(\"Boot Space in Litres\")\n",
    "plt.title(\"Boot Space Comparison\")"
   ]
  },
  {
   "cell_type": "code",
   "execution_count": 18,
   "metadata": {},
   "outputs": [
    {
     "data": {
      "text/html": [
       "<div>\n",
       "<style scoped>\n",
       "    .dataframe tbody tr th:only-of-type {\n",
       "        vertical-align: middle;\n",
       "    }\n",
       "\n",
       "    .dataframe tbody tr th {\n",
       "        vertical-align: top;\n",
       "    }\n",
       "\n",
       "    .dataframe thead th {\n",
       "        text-align: right;\n",
       "    }\n",
       "</style>\n",
       "<table border=\"1\" class=\"dataframe\">\n",
       "  <thead>\n",
       "    <tr style=\"text-align: right;\">\n",
       "      <th></th>\n",
       "      <th>Battery Capacity(kWh)</th>\n",
       "      <th>Acceleration Time(sec)</th>\n",
       "      <th>TopSpeed(km/h)</th>\n",
       "      <th>Range(km)</th>\n",
       "      <th>Max Power(kW)</th>\n",
       "      <th>Max Torque(Nm)</th>\n",
       "      <th>Charging T(h)</th>\n",
       "    </tr>\n",
       "  </thead>\n",
       "  <tbody>\n",
       "    <tr>\n",
       "      <th>0</th>\n",
       "      <td>30.2</td>\n",
       "      <td>9.9</td>\n",
       "      <td>180</td>\n",
       "      <td>312</td>\n",
       "      <td>96</td>\n",
       "      <td>245</td>\n",
       "      <td>9</td>\n",
       "    </tr>\n",
       "    <tr>\n",
       "      <th>1</th>\n",
       "      <td>26.0</td>\n",
       "      <td>5.7</td>\n",
       "      <td>120</td>\n",
       "      <td>306</td>\n",
       "      <td>55</td>\n",
       "      <td>170</td>\n",
       "      <td>9</td>\n",
       "    </tr>\n",
       "    <tr>\n",
       "      <th>2</th>\n",
       "      <td>44.5</td>\n",
       "      <td>8.5</td>\n",
       "      <td>120</td>\n",
       "      <td>340</td>\n",
       "      <td>174</td>\n",
       "      <td>353</td>\n",
       "      <td>8</td>\n",
       "    </tr>\n",
       "    <tr>\n",
       "      <th>3</th>\n",
       "      <td>39.2</td>\n",
       "      <td>9.7</td>\n",
       "      <td>155</td>\n",
       "      <td>452</td>\n",
       "      <td>103</td>\n",
       "      <td>395</td>\n",
       "      <td>7</td>\n",
       "    </tr>\n",
       "    <tr>\n",
       "      <th>4</th>\n",
       "      <td>90.0</td>\n",
       "      <td>4.8</td>\n",
       "      <td>200</td>\n",
       "      <td>470</td>\n",
       "      <td>294</td>\n",
       "      <td>696</td>\n",
       "      <td>13</td>\n",
       "    </tr>\n",
       "  </tbody>\n",
       "</table>\n",
       "</div>"
      ],
      "text/plain": [
       "   Battery Capacity(kWh)  Acceleration Time(sec)  TopSpeed(km/h)  Range(km)  \\\n",
       "0                   30.2                     9.9             180        312   \n",
       "1                   26.0                     5.7             120        306   \n",
       "2                   44.5                     8.5             120        340   \n",
       "3                   39.2                     9.7             155        452   \n",
       "4                   90.0                     4.8             200        470   \n",
       "\n",
       "   Max Power(kW)  Max Torque(Nm)  Charging T(h)  \n",
       "0             96             245              9  \n",
       "1             55             170              9  \n",
       "2            174             353              8  \n",
       "3            103             395              7  \n",
       "4            294             696             13  "
      ]
     },
     "execution_count": 18,
     "metadata": {},
     "output_type": "execute_result"
    }
   ],
   "source": [
    "data.iloc[:, 3:10].head()"
   ]
  },
  {
   "cell_type": "code",
   "execution_count": 19,
   "metadata": {},
   "outputs": [],
   "source": [
    "corr = data.iloc[:, 3:10].corr()"
   ]
  },
  {
   "cell_type": "code",
   "execution_count": 20,
   "metadata": {},
   "outputs": [
    {
     "data": {
      "text/plain": [
       "<AxesSubplot:>"
      ]
     },
     "execution_count": 20,
     "metadata": {},
     "output_type": "execute_result"
    },
    {
     "data": {
      "image/png": "[encoded data removed]",
      "text/plain": [
       "<Figure size 1440x432 with 2 Axes>"
      ]
     },
     "metadata": {
      "needs_background": "light"
     },
     "output_type": "display_data"
    }
   ],
   "source": [
    "plt.figure(figsize=(20, 6))\n",
    "sns.heatmap(corr, annot = True)"
   ]
  },
  {
   "cell_type": "code",
   "execution_count": 21,
   "metadata": {},
   "outputs": [],
   "source": [
    "# We can see that a lot of attributes are highly positively correlated\n",
    "# Max Power - Top Speed\n",
    "# Battery Capacity - Top Speed\n",
    "# Max Power - Battery Capacity\n",
    "# Max Torque - Battery Capacity\n",
    "# Max Torque - Max Power\n",
    "# Some attributes can be dropped to eliminate redundancy "
   ]
  },
  {
   "cell_type": "code",
   "execution_count": 22,
   "metadata": {},
   "outputs": [
    {
     "data": {
      "text/plain": [
       "<seaborn.axisgrid.PairGrid at 0x1eee88b6be0>"
      ]
     },
     "execution_count": 22,
     "metadata": {},
     "output_type": "execute_result"
    },
    {
     "data": {
      "image/png": "[encoded data removed]",
      "text/plain": [
       "<Figure size 882x882 with 56 Axes>"
      ]
     },
     "metadata": {
      "needs_background": "light"
     },
     "output_type": "display_data"
    }
   ],
   "source": [
    "sns.pairplot(data = data.iloc[:, 3:10], height = 1.75)"
   ]
  },
  {
   "cell_type": "code",
   "execution_count": 23,
   "metadata": {},
   "outputs": [
    {
     "data": {
      "text/plain": [
       "<AxesSubplot:xlabel='Drive Type', ylabel='count'>"
      ]
     },
     "execution_count": 23,
     "metadata": {},
     "output_type": "execute_result"
    },
    {
     "data": {
      "image/png": "[encoded data removed]",
      "text/plain": [
       "<Figure size 432x288 with 1 Axes>"
      ]
     },
     "metadata": {
      "needs_background": "light"
     },
     "output_type": "display_data"
    }
   ],
   "source": [
    "sns.countplot(x = data['Drive Type'], color = \"pink\")"
   ]
  },
  {
   "cell_type": "code",
   "execution_count": 24,
   "metadata": {},
   "outputs": [
    {
     "data": {
      "text/html": [
       "<div>\n",
       "<style scoped>\n",
       "    .dataframe tbody tr th:only-of-type {\n",
       "        vertical-align: middle;\n",
       "    }\n",
       "\n",
       "    .dataframe tbody tr th {\n",
       "        vertical-align: top;\n",
       "    }\n",
       "\n",
       "    .dataframe thead th {\n",
       "        text-align: right;\n",
       "    }\n",
       "</style>\n",
       "<table border=\"1\" class=\"dataframe\">\n",
       "  <thead>\n",
       "    <tr style=\"text-align: right;\">\n",
       "      <th></th>\n",
       "      <th>DT_AWD</th>\n",
       "      <th>DT_FWD</th>\n",
       "      <th>DT_RWD</th>\n",
       "    </tr>\n",
       "  </thead>\n",
       "  <tbody>\n",
       "    <tr>\n",
       "      <th>0</th>\n",
       "      <td>0</td>\n",
       "      <td>1</td>\n",
       "      <td>0</td>\n",
       "    </tr>\n",
       "    <tr>\n",
       "      <th>1</th>\n",
       "      <td>0</td>\n",
       "      <td>1</td>\n",
       "      <td>0</td>\n",
       "    </tr>\n",
       "    <tr>\n",
       "      <th>2</th>\n",
       "      <td>0</td>\n",
       "      <td>1</td>\n",
       "      <td>0</td>\n",
       "    </tr>\n",
       "    <tr>\n",
       "      <th>3</th>\n",
       "      <td>0</td>\n",
       "      <td>1</td>\n",
       "      <td>0</td>\n",
       "    </tr>\n",
       "    <tr>\n",
       "      <th>4</th>\n",
       "      <td>1</td>\n",
       "      <td>0</td>\n",
       "      <td>0</td>\n",
       "    </tr>\n",
       "  </tbody>\n",
       "</table>\n",
       "</div>"
      ],
      "text/plain": [
       "   DT_AWD  DT_FWD  DT_RWD\n",
       "0       0       1       0\n",
       "1       0       1       0\n",
       "2       0       1       0\n",
       "3       0       1       0\n",
       "4       1       0       0"
      ]
     },
     "execution_count": 24,
     "metadata": {},
     "output_type": "execute_result"
    }
   ],
   "source": [
    "dt_dummies = pd.get_dummies(data['Drive Type'], prefix = \"DT\")\n",
    "dt_dummies.head()"
   ]
  },
  {
   "cell_type": "code",
   "execution_count": 25,
   "metadata": {},
   "outputs": [],
   "source": [
    "data = pd.concat([data, dt_dummies], axis = 1)"
   ]
  },
  {
   "cell_type": "code",
   "execution_count": 26,
   "metadata": {},
   "outputs": [
    {
     "data": {
      "text/html": [
       "<div>\n",
       "<style scoped>\n",
       "    .dataframe tbody tr th:only-of-type {\n",
       "        vertical-align: middle;\n",
       "    }\n",
       "\n",
       "    .dataframe tbody tr th {\n",
       "        vertical-align: top;\n",
       "    }\n",
       "\n",
       "    .dataframe thead th {\n",
       "        text-align: right;\n",
       "    }\n",
       "</style>\n",
       "<table border=\"1\" class=\"dataframe\">\n",
       "  <thead>\n",
       "    <tr style=\"text-align: right;\">\n",
       "      <th></th>\n",
       "      <th>Car</th>\n",
       "      <th>Style</th>\n",
       "      <th>BootSpace</th>\n",
       "      <th>Battery Capacity(kWh)</th>\n",
       "      <th>Acceleration Time(sec)</th>\n",
       "      <th>TopSpeed(km/h)</th>\n",
       "      <th>Range(km)</th>\n",
       "      <th>Max Power(kW)</th>\n",
       "      <th>Max Torque(Nm)</th>\n",
       "      <th>Charging T(h)</th>\n",
       "      <th>Drive Type</th>\n",
       "      <th>Price(Lh)</th>\n",
       "      <th>DT_AWD</th>\n",
       "      <th>DT_FWD</th>\n",
       "      <th>DT_RWD</th>\n",
       "    </tr>\n",
       "  </thead>\n",
       "  <tbody>\n",
       "    <tr>\n",
       "      <th>0</th>\n",
       "      <td>Tata Nexon EV</td>\n",
       "      <td>2</td>\n",
       "      <td>350</td>\n",
       "      <td>30.2</td>\n",
       "      <td>9.9</td>\n",
       "      <td>180</td>\n",
       "      <td>312</td>\n",
       "      <td>96</td>\n",
       "      <td>245</td>\n",
       "      <td>9</td>\n",
       "      <td>FWD</td>\n",
       "      <td>17</td>\n",
       "      <td>0</td>\n",
       "      <td>1</td>\n",
       "      <td>0</td>\n",
       "    </tr>\n",
       "    <tr>\n",
       "      <th>1</th>\n",
       "      <td>Tata Tigor EV</td>\n",
       "      <td>1</td>\n",
       "      <td>316</td>\n",
       "      <td>26.0</td>\n",
       "      <td>5.7</td>\n",
       "      <td>120</td>\n",
       "      <td>306</td>\n",
       "      <td>55</td>\n",
       "      <td>170</td>\n",
       "      <td>9</td>\n",
       "      <td>FWD</td>\n",
       "      <td>14</td>\n",
       "      <td>0</td>\n",
       "      <td>1</td>\n",
       "      <td>0</td>\n",
       "    </tr>\n",
       "    <tr>\n",
       "      <th>2</th>\n",
       "      <td>MG ZS EV</td>\n",
       "      <td>2</td>\n",
       "      <td>448</td>\n",
       "      <td>44.5</td>\n",
       "      <td>8.5</td>\n",
       "      <td>120</td>\n",
       "      <td>340</td>\n",
       "      <td>174</td>\n",
       "      <td>353</td>\n",
       "      <td>8</td>\n",
       "      <td>FWD</td>\n",
       "      <td>25</td>\n",
       "      <td>0</td>\n",
       "      <td>1</td>\n",
       "      <td>0</td>\n",
       "    </tr>\n",
       "  </tbody>\n",
       "</table>\n",
       "</div>"
      ],
      "text/plain": [
       "             Car  Style  BootSpace  Battery Capacity(kWh)  \\\n",
       "0  Tata Nexon EV      2        350                   30.2   \n",
       "1  Tata Tigor EV      1        316                   26.0   \n",
       "2       MG ZS EV      2        448                   44.5   \n",
       "\n",
       "   Acceleration Time(sec)  TopSpeed(km/h)  Range(km)  Max Power(kW)  \\\n",
       "0                     9.9             180        312             96   \n",
       "1                     5.7             120        306             55   \n",
       "2                     8.5             120        340            174   \n",
       "\n",
       "   Max Torque(Nm)  Charging T(h) Drive Type  Price(Lh)  DT_AWD  DT_FWD  DT_RWD  \n",
       "0             245              9        FWD         17       0       1       0  \n",
       "1             170              9        FWD         14       0       1       0  \n",
       "2             353              8        FWD         25       0       1       0  "
      ]
     },
     "execution_count": 26,
     "metadata": {},
     "output_type": "execute_result"
    }
   ],
   "source": [
    "data.head(3)"
   ]
  },
  {
   "cell_type": "code",
   "execution_count": 27,
   "metadata": {},
   "outputs": [],
   "source": [
    "data.drop(['Drive Type'], axis = 1, inplace = True)"
   ]
  },
  {
   "cell_type": "code",
   "execution_count": 28,
   "metadata": {},
   "outputs": [
    {
     "data": {
      "text/plain": [
       "Index(['Car', 'Style', 'BootSpace', 'Battery Capacity(kWh)',\n",
       "       'Acceleration Time(sec)', 'TopSpeed(km/h)', 'Range(km)',\n",
       "       'Max Power(kW)', 'Max Torque(Nm)', 'Charging T(h)', 'Price(Lh)',\n",
       "       'DT_AWD', 'DT_FWD', 'DT_RWD'],\n",
       "      dtype='object')"
      ]
     },
     "execution_count": 28,
     "metadata": {},
     "output_type": "execute_result"
    }
   ],
   "source": [
    "data.columns"
   ]
  },
  {
   "cell_type": "code",
   "execution_count": 29,
   "metadata": {},
   "outputs": [
    {
     "data": {
      "text/plain": [
       "Text(0.5, 1.0, 'EV Cars Price Comparison')"
      ]
     },
     "execution_count": 29,
     "metadata": {},
     "output_type": "execute_result"
    },
    {
     "data": {
      "image/png": "[encoded data removed]",
      "text/plain": [
       "<Figure size 1800x432 with 1 Axes>"
      ]
     },
     "metadata": {
      "needs_background": "light"
     },
     "output_type": "display_data"
    }
   ],
   "source": [
    "plt.figure(figsize=(25, 6))\n",
    "plt.bar(data['Car'], data['Price(Lh)'], color = (0, 0.7, 0, 0.6))\n",
    "plt.xlabel(\"Car Model\")\n",
    "plt.ylabel(\"Price in Lakhs\")\n",
    "plt.title(\"EV Cars Price Comparison\")"
   ]
  },
  {
   "cell_type": "code",
   "execution_count": 30,
   "metadata": {},
   "outputs": [
    {
     "data": {
      "text/plain": [
       "<AxesSubplot:>"
      ]
     },
     "execution_count": 30,
     "metadata": {},
     "output_type": "execute_result"
    },
    {
     "data": {
      "image/png": "[encoded data removed]",
      "text/plain": [
       "<Figure size 1800x432 with 2 Axes>"
      ]
     },
     "metadata": {
      "needs_background": "light"
     },
     "output_type": "display_data"
    }
   ],
   "source": [
    "corr = data.iloc[:, 3:11].corr()\n",
    "plt.figure(figsize = (25, 6))\n",
    "sns.heatmap(corr, annot = True, cmap = \"icefire\")"
   ]
  },
  {
   "cell_type": "code",
   "execution_count": 31,
   "metadata": {},
   "outputs": [],
   "source": [
    "style_price = pd.DataFrame(list(data['Style'].unique()), columns = ['Car Style'])"
   ]
  },
  {
   "cell_type": "code",
   "execution_count": 32,
   "metadata": {},
   "outputs": [
    {
     "data": {
      "text/html": [
       "<div>\n",
       "<style scoped>\n",
       "    .dataframe tbody tr th:only-of-type {\n",
       "        vertical-align: middle;\n",
       "    }\n",
       "\n",
       "    .dataframe tbody tr th {\n",
       "        vertical-align: top;\n",
       "    }\n",
       "\n",
       "    .dataframe thead th {\n",
       "        text-align: right;\n",
       "    }\n",
       "</style>\n",
       "<table border=\"1\" class=\"dataframe\">\n",
       "  <thead>\n",
       "    <tr style=\"text-align: right;\">\n",
       "      <th></th>\n",
       "      <th>Car Style</th>\n",
       "    </tr>\n",
       "  </thead>\n",
       "  <tbody>\n",
       "    <tr>\n",
       "      <th>0</th>\n",
       "      <td>2</td>\n",
       "    </tr>\n",
       "    <tr>\n",
       "      <th>1</th>\n",
       "      <td>1</td>\n",
       "    </tr>\n",
       "    <tr>\n",
       "      <th>2</th>\n",
       "      <td>3</td>\n",
       "    </tr>\n",
       "    <tr>\n",
       "      <th>3</th>\n",
       "      <td>0</td>\n",
       "    </tr>\n",
       "  </tbody>\n",
       "</table>\n",
       "</div>"
      ],
      "text/plain": [
       "   Car Style\n",
       "0          2\n",
       "1          1\n",
       "2          3\n",
       "3          0"
      ]
     },
     "execution_count": 32,
     "metadata": {},
     "output_type": "execute_result"
    }
   ],
   "source": [
    "style_price"
   ]
  },
  {
   "cell_type": "code",
   "execution_count": 33,
   "metadata": {},
   "outputs": [],
   "source": [
    "prices = []\n",
    "\n",
    "for car_s in style_price['Car Style']:\n",
    "    prices.append(data[ data['Style'] == car_s ]['Price(Lh)'].mean())"
   ]
  },
  {
   "cell_type": "code",
   "execution_count": 34,
   "metadata": {},
   "outputs": [],
   "source": [
    "style_price['Price(L)'] = pd.Series(prices)"
   ]
  },
  {
   "cell_type": "code",
   "execution_count": 35,
   "metadata": {},
   "outputs": [
    {
     "data": {
      "text/html": [
       "<div>\n",
       "<style scoped>\n",
       "    .dataframe tbody tr th:only-of-type {\n",
       "        vertical-align: middle;\n",
       "    }\n",
       "\n",
       "    .dataframe tbody tr th {\n",
       "        vertical-align: top;\n",
       "    }\n",
       "\n",
       "    .dataframe thead th {\n",
       "        text-align: right;\n",
       "    }\n",
       "</style>\n",
       "<table border=\"1\" class=\"dataframe\">\n",
       "  <thead>\n",
       "    <tr style=\"text-align: right;\">\n",
       "      <th></th>\n",
       "      <th>Car Style</th>\n",
       "      <th>Price(L)</th>\n",
       "    </tr>\n",
       "  </thead>\n",
       "  <tbody>\n",
       "    <tr>\n",
       "      <th>0</th>\n",
       "      <td>2</td>\n",
       "      <td>51.00</td>\n",
       "    </tr>\n",
       "    <tr>\n",
       "      <th>1</th>\n",
       "      <td>1</td>\n",
       "      <td>21.50</td>\n",
       "    </tr>\n",
       "    <tr>\n",
       "      <th>2</th>\n",
       "      <td>3</td>\n",
       "      <td>152.25</td>\n",
       "    </tr>\n",
       "    <tr>\n",
       "      <th>3</th>\n",
       "      <td>0</td>\n",
       "      <td>10.00</td>\n",
       "    </tr>\n",
       "  </tbody>\n",
       "</table>\n",
       "</div>"
      ],
      "text/plain": [
       "   Car Style  Price(L)\n",
       "0          2     51.00\n",
       "1          1     21.50\n",
       "2          3    152.25\n",
       "3          0     10.00"
      ]
     },
     "execution_count": 35,
     "metadata": {},
     "output_type": "execute_result"
    }
   ],
   "source": [
    "style_price"
   ]
  },
  {
   "cell_type": "code",
   "execution_count": 36,
   "metadata": {},
   "outputs": [
    {
     "data": {
      "text/plain": [
       "Text(0.5, 1.0, \"EV Cars' Style Price Comparison\")"
      ]
     },
     "execution_count": 36,
     "metadata": {},
     "output_type": "execute_result"
    },
    {
     "data": {
      "image/png": "[encoded data removed]",
      "text/plain": [
       "<Figure size 432x288 with 1 Axes>"
      ]
     },
     "metadata": {
      "needs_background": "light"
     },
     "output_type": "display_data"
    }
   ],
   "source": [
    "plt.figure(figsize=(6, 4))\n",
    "plt.bar(['Compact', 'Subcompact', 'Premium', 'Hatchback'], style_price['Price(L)'], color = (0.2, 0, 0.7, 0.6))\n",
    "plt.xlabel(\"Car Style\")\n",
    "plt.ylabel(\"Mean Price in Lakhs\")\n",
    "plt.title(\"EV Cars' Style Price Comparison\")"
   ]
  },
  {
   "cell_type": "code",
   "execution_count": 37,
   "metadata": {},
   "outputs": [
    {
     "data": {
      "text/html": [
       "<div>\n",
       "<style scoped>\n",
       "    .dataframe tbody tr th:only-of-type {\n",
       "        vertical-align: middle;\n",
       "    }\n",
       "\n",
       "    .dataframe tbody tr th {\n",
       "        vertical-align: top;\n",
       "    }\n",
       "\n",
       "    .dataframe thead th {\n",
       "        text-align: right;\n",
       "    }\n",
       "</style>\n",
       "<table border=\"1\" class=\"dataframe\">\n",
       "  <thead>\n",
       "    <tr style=\"text-align: right;\">\n",
       "      <th></th>\n",
       "      <th>Car</th>\n",
       "      <th>Style</th>\n",
       "      <th>BootSpace</th>\n",
       "      <th>Battery Capacity(kWh)</th>\n",
       "      <th>Acceleration Time(sec)</th>\n",
       "      <th>TopSpeed(km/h)</th>\n",
       "      <th>Range(km)</th>\n",
       "      <th>Max Power(kW)</th>\n",
       "      <th>Max Torque(Nm)</th>\n",
       "      <th>Charging T(h)</th>\n",
       "      <th>Price(Lh)</th>\n",
       "      <th>DT_AWD</th>\n",
       "      <th>DT_FWD</th>\n",
       "      <th>DT_RWD</th>\n",
       "    </tr>\n",
       "  </thead>\n",
       "  <tbody>\n",
       "    <tr>\n",
       "      <th>0</th>\n",
       "      <td>Tata Nexon EV</td>\n",
       "      <td>2</td>\n",
       "      <td>350</td>\n",
       "      <td>30.2</td>\n",
       "      <td>9.9</td>\n",
       "      <td>180</td>\n",
       "      <td>312</td>\n",
       "      <td>96</td>\n",
       "      <td>245</td>\n",
       "      <td>9</td>\n",
       "      <td>17</td>\n",
       "      <td>0</td>\n",
       "      <td>1</td>\n",
       "      <td>0</td>\n",
       "    </tr>\n",
       "    <tr>\n",
       "      <th>1</th>\n",
       "      <td>Tata Tigor EV</td>\n",
       "      <td>1</td>\n",
       "      <td>316</td>\n",
       "      <td>26.0</td>\n",
       "      <td>5.7</td>\n",
       "      <td>120</td>\n",
       "      <td>306</td>\n",
       "      <td>55</td>\n",
       "      <td>170</td>\n",
       "      <td>9</td>\n",
       "      <td>14</td>\n",
       "      <td>0</td>\n",
       "      <td>1</td>\n",
       "      <td>0</td>\n",
       "    </tr>\n",
       "    <tr>\n",
       "      <th>2</th>\n",
       "      <td>MG ZS EV</td>\n",
       "      <td>2</td>\n",
       "      <td>448</td>\n",
       "      <td>44.5</td>\n",
       "      <td>8.5</td>\n",
       "      <td>120</td>\n",
       "      <td>340</td>\n",
       "      <td>174</td>\n",
       "      <td>353</td>\n",
       "      <td>8</td>\n",
       "      <td>25</td>\n",
       "      <td>0</td>\n",
       "      <td>1</td>\n",
       "      <td>0</td>\n",
       "    </tr>\n",
       "    <tr>\n",
       "      <th>3</th>\n",
       "      <td>Hyundai Kona Electric</td>\n",
       "      <td>2</td>\n",
       "      <td>332</td>\n",
       "      <td>39.2</td>\n",
       "      <td>9.7</td>\n",
       "      <td>155</td>\n",
       "      <td>452</td>\n",
       "      <td>103</td>\n",
       "      <td>395</td>\n",
       "      <td>7</td>\n",
       "      <td>24</td>\n",
       "      <td>0</td>\n",
       "      <td>1</td>\n",
       "      <td>0</td>\n",
       "    </tr>\n",
       "    <tr>\n",
       "      <th>4</th>\n",
       "      <td>Jaguar I-Pace</td>\n",
       "      <td>3</td>\n",
       "      <td>656</td>\n",
       "      <td>90.0</td>\n",
       "      <td>4.8</td>\n",
       "      <td>200</td>\n",
       "      <td>470</td>\n",
       "      <td>294</td>\n",
       "      <td>696</td>\n",
       "      <td>13</td>\n",
       "      <td>112</td>\n",
       "      <td>1</td>\n",
       "      <td>0</td>\n",
       "      <td>0</td>\n",
       "    </tr>\n",
       "  </tbody>\n",
       "</table>\n",
       "</div>"
      ],
      "text/plain": [
       "                     Car  Style  BootSpace  Battery Capacity(kWh)  \\\n",
       "0          Tata Nexon EV      2        350                   30.2   \n",
       "1          Tata Tigor EV      1        316                   26.0   \n",
       "2               MG ZS EV      2        448                   44.5   \n",
       "3  Hyundai Kona Electric      2        332                   39.2   \n",
       "4          Jaguar I-Pace      3        656                   90.0   \n",
       "\n",
       "   Acceleration Time(sec)  TopSpeed(km/h)  Range(km)  Max Power(kW)  \\\n",
       "0                     9.9             180        312             96   \n",
       "1                     5.7             120        306             55   \n",
       "2                     8.5             120        340            174   \n",
       "3                     9.7             155        452            103   \n",
       "4                     4.8             200        470            294   \n",
       "\n",
       "   Max Torque(Nm)  Charging T(h)  Price(Lh)  DT_AWD  DT_FWD  DT_RWD  \n",
       "0             245              9         17       0       1       0  \n",
       "1             170              9         14       0       1       0  \n",
       "2             353              8         25       0       1       0  \n",
       "3             395              7         24       0       1       0  \n",
       "4             696             13        112       1       0       0  "
      ]
     },
     "execution_count": 37,
     "metadata": {},
     "output_type": "execute_result"
    }
   ],
   "source": [
    "data.head()"
   ]
  },
  {
   "cell_type": "code",
   "execution_count": 38,
   "metadata": {},
   "outputs": [],
   "source": [
    "from sklearn.decomposition import PCA\n",
    "from sklearn.preprocessing import StandardScaler"
   ]
  },
  {
   "cell_type": "code",
   "execution_count": 39,
   "metadata": {},
   "outputs": [],
   "source": [
    "x = data.iloc[:, 1:].values"
   ]
  },
  {
   "cell_type": "code",
   "execution_count": 40,
   "metadata": {},
   "outputs": [],
   "source": [
    "sc = StandardScaler()\n",
    "x = sc.fit_transform(x)"
   ]
  },
  {
   "cell_type": "code",
   "execution_count": 41,
   "metadata": {},
   "outputs": [
    {
     "data": {
      "text/plain": [
       "PCA()"
      ]
     },
     "execution_count": 41,
     "metadata": {},
     "output_type": "execute_result"
    }
   ],
   "source": [
    "pca = PCA()\n",
    "pca.fit(x)"
   ]
  },
  {
   "cell_type": "code",
   "execution_count": 42,
   "metadata": {},
   "outputs": [
    {
     "data": {
      "text/plain": [
       "array([6.25423018e-01, 1.35577558e-01, 7.23642495e-02, 6.54117017e-02,\n",
       "       4.19777340e-02, 3.09025079e-02, 1.28398302e-02, 8.99556141e-03,\n",
       "       5.78913757e-03, 6.20176182e-04, 9.55070923e-05, 3.01844928e-06,\n",
       "       1.65126767e-34])"
      ]
     },
     "execution_count": 42,
     "metadata": {},
     "output_type": "execute_result"
    }
   ],
   "source": [
    "pca.explained_variance_ratio_"
   ]
  },
  {
   "cell_type": "code",
   "execution_count": 44,
   "metadata": {},
   "outputs": [
    {
     "data": {
      "text/plain": [
       "Text(0, 0.5, 'Cumulative Explained Variance')"
      ]
     },
     "execution_count": 44,
     "metadata": {},
     "output_type": "execute_result"
    },
    {
     "data": {
      "image/png": "[encoded data removed]",
      "text/plain": [
       "<Figure size 720x432 with 1 Axes>"
      ]
     },
     "metadata": {
      "needs_background": "light"
     },
     "output_type": "display_data"
    }
   ],
   "source": [
    "plt.figure(figsize = (10, 6))\n",
    "plt.plot(range(data.shape[1] - 1), pca.explained_variance_ratio_.cumsum(), marker = 'o', linestyle = '--')\n",
    "plt.title('Explained Variance by Components')\n",
    "plt.xlabel('No. of Components')\n",
    "plt.ylabel('Cumulative Explained Variance')"
   ]
  },
  {
   "cell_type": "code",
   "execution_count": 45,
   "metadata": {},
   "outputs": [
    {
     "data": {
      "text/plain": [
       "PCA(n_components=2)"
      ]
     },
     "execution_count": 45,
     "metadata": {},
     "output_type": "execute_result"
    }
   ],
   "source": [
    "pca = PCA(n_components = 2)\n",
    "pca.fit(x)"
   ]
  },
  {
   "cell_type": "code",
   "execution_count": 46,
   "metadata": {},
   "outputs": [],
   "source": [
    "pca_scores = pca.transform(x)"
   ]
  },
  {
   "cell_type": "code",
   "execution_count": 47,
   "metadata": {},
   "outputs": [
    {
     "data": {
      "image/png": "[encoded data removed]",
      "text/plain": [
       "<Figure size 432x288 with 1 Axes>"
      ]
     },
     "metadata": {
      "needs_background": "light"
     },
     "output_type": "display_data"
    }
   ],
   "source": [
    "from sklearn.cluster import KMeans\n",
    "\n",
    "wcss = []\n",
    "for i in range(1, 5):\n",
    "    kmeans = KMeans(n_clusters = i, init = 'k-means++', random_state = 42)\n",
    "    kmeans.fit(pca_scores)\n",
    "    wcss.append(kmeans.inertia_)\n",
    "plt.plot(range(1, 5), wcss)\n",
    "plt.title('The Elbow Method')\n",
    "plt.xlabel('Number of clusters')\n",
    "plt.ylabel('WCSS')\n",
    "plt.show()"
   ]
  },
  {
   "cell_type": "code",
   "execution_count": 48,
   "metadata": {},
   "outputs": [
    {
     "data": {
      "text/plain": [
       "KMeans(n_clusters=2, random_state=42)"
      ]
     },
     "execution_count": 48,
     "metadata": {},
     "output_type": "execute_result"
    }
   ],
   "source": [
    "kmeans = KMeans(n_clusters = 2, init = 'k-means++', random_state = 42)\n",
    "kmeans.fit(pca_scores)"
   ]
  },
  {
   "cell_type": "code",
   "execution_count": 49,
   "metadata": {},
   "outputs": [
    {
     "data": {
      "text/plain": [
       "Counter({0: 7, 1: 6})"
      ]
     },
     "execution_count": 49,
     "metadata": {},
     "output_type": "execute_result"
    }
   ],
   "source": [
    "from collections import Counter\n",
    "Counter(kmeans.labels_)"
   ]
  },
  {
   "cell_type": "code",
   "execution_count": 50,
   "metadata": {},
   "outputs": [],
   "source": [
    "p_df = pd.DataFrame(data = pca_scores, columns = ['PC' + str(i) for i in range(0, 2) ])"
   ]
  },
  {
   "cell_type": "code",
   "execution_count": 51,
   "metadata": {},
   "outputs": [
    {
     "data": {
      "image/png": "[encoded data removed]",
      "text/plain": [
       "<Figure size 432x288 with 1 Axes>"
      ]
     },
     "metadata": {
      "needs_background": "light"
     },
     "output_type": "display_data"
    }
   ],
   "source": [
    "sns.scatterplot(data = p_df, x = \"PC0\", y = \"PC1\", hue = kmeans.labels_)\n",
    "\n",
    "plt.scatter(kmeans.cluster_centers_[:, 0], kmeans.cluster_centers_[:, 1], \n",
    "            marker = \"X\", c = \"r\", s = 50, label = \"centroids\")\n",
    "plt.legend()\n",
    "plt.show()"
   ]
  },
  {
   "cell_type": "code",
   "execution_count": 52,
   "metadata": {},
   "outputs": [],
   "source": [
    "data['Cluster'] = kmeans.labels_"
   ]
  },
  {
   "cell_type": "code",
   "execution_count": 53,
   "metadata": {},
   "outputs": [
    {
     "data": {
      "text/html": [
       "<div>\n",
       "<style scoped>\n",
       "    .dataframe tbody tr th:only-of-type {\n",
       "        vertical-align: middle;\n",
       "    }\n",
       "\n",
       "    .dataframe tbody tr th {\n",
       "        vertical-align: top;\n",
       "    }\n",
       "\n",
       "    .dataframe thead th {\n",
       "        text-align: right;\n",
       "    }\n",
       "</style>\n",
       "<table border=\"1\" class=\"dataframe\">\n",
       "  <thead>\n",
       "    <tr style=\"text-align: right;\">\n",
       "      <th></th>\n",
       "      <th>Car</th>\n",
       "      <th>Style</th>\n",
       "      <th>BootSpace</th>\n",
       "      <th>Battery Capacity(kWh)</th>\n",
       "      <th>Acceleration Time(sec)</th>\n",
       "      <th>TopSpeed(km/h)</th>\n",
       "      <th>Range(km)</th>\n",
       "      <th>Max Power(kW)</th>\n",
       "      <th>Max Torque(Nm)</th>\n",
       "      <th>Charging T(h)</th>\n",
       "      <th>Price(Lh)</th>\n",
       "      <th>DT_AWD</th>\n",
       "      <th>DT_FWD</th>\n",
       "      <th>DT_RWD</th>\n",
       "      <th>Cluster</th>\n",
       "    </tr>\n",
       "  </thead>\n",
       "  <tbody>\n",
       "    <tr>\n",
       "      <th>0</th>\n",
       "      <td>Tata Nexon EV</td>\n",
       "      <td>2</td>\n",
       "      <td>350</td>\n",
       "      <td>30.2</td>\n",
       "      <td>9.9</td>\n",
       "      <td>180</td>\n",
       "      <td>312</td>\n",
       "      <td>96</td>\n",
       "      <td>245</td>\n",
       "      <td>9</td>\n",
       "      <td>17</td>\n",
       "      <td>0</td>\n",
       "      <td>1</td>\n",
       "      <td>0</td>\n",
       "      <td>0</td>\n",
       "    </tr>\n",
       "    <tr>\n",
       "      <th>1</th>\n",
       "      <td>Tata Tigor EV</td>\n",
       "      <td>1</td>\n",
       "      <td>316</td>\n",
       "      <td>26.0</td>\n",
       "      <td>5.7</td>\n",
       "      <td>120</td>\n",
       "      <td>306</td>\n",
       "      <td>55</td>\n",
       "      <td>170</td>\n",
       "      <td>9</td>\n",
       "      <td>14</td>\n",
       "      <td>0</td>\n",
       "      <td>1</td>\n",
       "      <td>0</td>\n",
       "      <td>0</td>\n",
       "    </tr>\n",
       "    <tr>\n",
       "      <th>2</th>\n",
       "      <td>MG ZS EV</td>\n",
       "      <td>2</td>\n",
       "      <td>448</td>\n",
       "      <td>44.5</td>\n",
       "      <td>8.5</td>\n",
       "      <td>120</td>\n",
       "      <td>340</td>\n",
       "      <td>174</td>\n",
       "      <td>353</td>\n",
       "      <td>8</td>\n",
       "      <td>25</td>\n",
       "      <td>0</td>\n",
       "      <td>1</td>\n",
       "      <td>0</td>\n",
       "      <td>0</td>\n",
       "    </tr>\n",
       "    <tr>\n",
       "      <th>3</th>\n",
       "      <td>Hyundai Kona Electric</td>\n",
       "      <td>2</td>\n",
       "      <td>332</td>\n",
       "      <td>39.2</td>\n",
       "      <td>9.7</td>\n",
       "      <td>155</td>\n",
       "      <td>452</td>\n",
       "      <td>103</td>\n",
       "      <td>395</td>\n",
       "      <td>7</td>\n",
       "      <td>24</td>\n",
       "      <td>0</td>\n",
       "      <td>1</td>\n",
       "      <td>0</td>\n",
       "      <td>0</td>\n",
       "    </tr>\n",
       "    <tr>\n",
       "      <th>4</th>\n",
       "      <td>Jaguar I-Pace</td>\n",
       "      <td>3</td>\n",
       "      <td>656</td>\n",
       "      <td>90.0</td>\n",
       "      <td>4.8</td>\n",
       "      <td>200</td>\n",
       "      <td>470</td>\n",
       "      <td>294</td>\n",
       "      <td>696</td>\n",
       "      <td>13</td>\n",
       "      <td>112</td>\n",
       "      <td>1</td>\n",
       "      <td>0</td>\n",
       "      <td>0</td>\n",
       "      <td>1</td>\n",
       "    </tr>\n",
       "  </tbody>\n",
       "</table>\n",
       "</div>"
      ],
      "text/plain": [
       "                     Car  Style  BootSpace  Battery Capacity(kWh)  \\\n",
       "0          Tata Nexon EV      2        350                   30.2   \n",
       "1          Tata Tigor EV      1        316                   26.0   \n",
       "2               MG ZS EV      2        448                   44.5   \n",
       "3  Hyundai Kona Electric      2        332                   39.2   \n",
       "4          Jaguar I-Pace      3        656                   90.0   \n",
       "\n",
       "   Acceleration Time(sec)  TopSpeed(km/h)  Range(km)  Max Power(kW)  \\\n",
       "0                     9.9             180        312             96   \n",
       "1                     5.7             120        306             55   \n",
       "2                     8.5             120        340            174   \n",
       "3                     9.7             155        452            103   \n",
       "4                     4.8             200        470            294   \n",
       "\n",
       "   Max Torque(Nm)  Charging T(h)  Price(Lh)  DT_AWD  DT_FWD  DT_RWD  Cluster  \n",
       "0             245              9         17       0       1       0        0  \n",
       "1             170              9         14       0       1       0        0  \n",
       "2             353              8         25       0       1       0        0  \n",
       "3             395              7         24       0       1       0        0  \n",
       "4             696             13        112       1       0       0        1  "
      ]
     },
     "execution_count": 53,
     "metadata": {},
     "output_type": "execute_result"
    }
   ],
   "source": [
    "data.head()"
   ]
  },
  {
   "cell_type": "code",
   "execution_count": 54,
   "metadata": {},
   "outputs": [
    {
     "data": {
      "text/plain": [
       "0             Tata Nexon EV\n",
       "1             Tata Tigor EV\n",
       "2                  MG ZS EV\n",
       "3     Hyundai Kona Electric\n",
       "6                    BYD E6\n",
       "11         Mahindra XUV 400\n",
       "12            Tata Tiago EV\n",
       "Name: Car, dtype: object"
      ]
     },
     "execution_count": 54,
     "metadata": {},
     "output_type": "execute_result"
    }
   ],
   "source": [
    "data[ data['Cluster'] == 0 ]['Car']\n",
    "# Affordable by middle class"
   ]
  },
  {
   "cell_type": "code",
   "execution_count": 55,
   "metadata": {},
   "outputs": [
    {
     "data": {
      "text/plain": [
       "4         Jaguar I-Pace\n",
       "5        Audi E-Tron GT\n",
       "7     Mercedes Benz EQC\n",
       "8                BMW iX\n",
       "9        Porsche Taycan\n",
       "10          Audi E-Tron\n",
       "Name: Car, dtype: object"
      ]
     },
     "execution_count": 55,
     "metadata": {},
     "output_type": "execute_result"
    }
   ],
   "source": [
    "data[ data['Cluster'] == 1 ]['Car']\n",
    "# Affortable by high class"
   ]
  },
  {
   "cell_type": "code",
   "execution_count": null,
   "metadata": {},
   "outputs": [],
   "source": []
  }
 ],
 "metadata": {
  "kernelspec": {
   "display_name": "base",
   "language": "python",
   "name": "python3"
  },
  "language_info": {
   "codemirror_mode": {
    "name": "ipython",
    "version": 3
   },
   "file_extension": ".py",
   "mimetype": "text/x-python",
   "name": "python",
   "nbconvert_exporter": "python",
   "pygments_lexer": "ipython3",
   "version": "3.8.5"
  },
  "orig_nbformat": 4,
  "vscode": {
   "interpreter": {
    "hash": "0dc2fd043a8482d8110fc568899369c1e4bc80d83650aa995e9527605d230520"
   }
  }
 },
 "nbformat": 4,
 "nbformat_minor": 2
}
